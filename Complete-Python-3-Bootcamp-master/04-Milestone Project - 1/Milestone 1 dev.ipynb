{
 "cells": [
  {
   "cell_type": "markdown",
   "metadata": {},
   "source": [
    "tic tac toe game\n",
    "\n",
    "requires input from the players\n",
    "\n",
    "input_player1= input('give where do you want to put your mark?') #player 1 is X and player 2 is O\n",
    "input_player2 sam as above.\n",
    "\n",
    "Input maybe given as coordinates, such as battelship e.g. 1,3(?), maybe not. Try to assign a number to each square e.g. 1-9\n",
    "\n",
    "The grid can be written out like the alfabet in function excercises X O X\n",
    "                                                                    X X O\n",
    "                                                                    O X O after each given input by either player. Need to be stored in a list of tuples(?) or dictionary (values x row and keys y) as in coordinate system. Dictionary with a list of tuples and then a value of either nothing X or O.\n",
    "                                                                    \n",
    "                                                                    \n",
    " How to check if the while loop is ok? winning condition 3 in a row.                                                                 \n",
    " \n",
    " funcs need to be done for:\n",
    " - input\n",
    " - storage\n",
    " - winning condition\n",
    " \n",
    "                                                                    \n",
    "                                                                    \n",
    "                                                                    "
   ]
  },
  {
   "cell_type": "code",
   "execution_count": 1,
   "metadata": {},
   "outputs": [
    {
     "name": "stdout",
     "output_type": "stream",
     "text": [
      "Where do you want to put your mark?1,3\n"
     ]
    }
   ],
   "source": [
    "input_player1= input('Where do you want to put your mark?')"
   ]
  },
  {
   "cell_type": "code",
   "execution_count": 4,
   "metadata": {},
   "outputs": [],
   "source": [
    "#players enter numbers that represent positions in a grid to get 3 in a row, tic! tac! toe! GO!\n",
    "def game():\n",
    "    x=True\n",
    "    inputlist1=[]\n",
    "    inputlist2=[]\n",
    "    moves=0\n",
    "    winning_condition = False\n",
    "    while winning_condition != True:\n",
    "        if x==True and moves<9:\n",
    "            input_player1 = int(input(\"Player1: Where do you wanna place your mark?\"))\n",
    "            if input_player1 in inputlist1 or input_player1 in inputlist2:\n",
    "                print(\"this square is already chosen, pick again!\")\n",
    "                continue\n",
    "            else:\n",
    "                inputlist1.append(input_player1) #store the input and display the grid\n",
    "                inputlist1.sort()\n",
    "                if winning_combos(inputlist1)==True:\n",
    "                    winning_condition=True\n",
    "                moves+=1\n",
    "                x= False\n",
    "                \n",
    "                \n",
    "        elif x==False and moves<9:\n",
    "            input_player2 = int(input(\"Player 2: Where do you wanna place your mark?\"))\n",
    "            if input_player2 in inputlist1 or input_player2 in inputlist2:\n",
    "                print(\"this square is already chosen, pick again!\")\n",
    "                continue\n",
    "            else:\n",
    "                inputlist2.append(input_player2)\n",
    "                inputlist2.sort()\n",
    "                if winning_combos(inputlist2)==True:\n",
    "                    winning_condition=True\n",
    "                else:\n",
    "                    print(\"no win\")\n",
    "                moves+=1\n",
    "                x= True\n",
    "                \n",
    "            \n",
    "        else: \n",
    "            print(\"It's a tie game. No one wins. Better luck next time!\")\n",
    "            print(inputlist1)\n",
    "            print(inputlist2)\n",
    "            break\n",
    "    else:\n",
    "        print(\"You got 3 in a row, you win!!\")\n",
    "        \n",
    "def print_grid(a):\n",
    "    #printing out the grid to show X and O\n",
    "    pass\n",
    "    \n",
    "        \n",
    "def winning_combos(a):\n",
    "    #cheking all possible winning conditions\n",
    "    winlist=[[1,2,3],[4,5,6],[7,8,9],[1,4,7],[2,5,8],[3,6,9],[1,5,9],[3,5,7]]\n",
    "    if all(i in a for i in winlist):\n",
    "        return True\n",
    "    else:\n",
    "        return False\n"
   ]
  },
  {
   "cell_type": "code",
   "execution_count": null,
   "metadata": {
    "scrolled": true
   },
   "outputs": [],
   "source": [
    "game()"
   ]
  },
  {
   "cell_type": "code",
   "execution_count": null,
   "metadata": {},
   "outputs": [],
   "source": []
  }
 ],
 "metadata": {
  "kernelspec": {
   "display_name": "Python 3",
   "language": "python",
   "name": "python3"
  }
 },
 "nbformat": 4,
 "nbformat_minor": 2
}
