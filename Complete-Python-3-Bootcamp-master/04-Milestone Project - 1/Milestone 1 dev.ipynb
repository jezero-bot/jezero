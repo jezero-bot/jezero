{
 "cells": [
  {
   "cell_type": "markdown",
   "metadata": {},
   "source": [
    "tic tac toe game\n",
    "\n",
    "requires input from the players\n",
    "\n",
    "input_player1= input('give where do you want to put your mark?') #player 1 is X and player 2 is O\n",
    "input_player2 sam as above.\n",
    "\n",
    "Input maybe given as coordinates, such as battelship e.g. 1,3(?), maybe not. Try to assign a number to each square e.g. 1-9\n",
    "\n",
    "The grid can be written out like the alfabet in function excercises X O X\n",
    "                                                                    X X O\n",
    "                                                                    O X O after each given input by either player. Need to be stored in a list of tuples(?) or dictionary (values x row and keys y) as in coordinate system. Dictionary with a list of tuples and then a value of either nothing X or O.\n",
    "                                                                    \n",
    "                                                                    \n",
    " How to check if the while loop is ok? winning condition 3 in a row.                                                                 \n",
    " \n",
    " funcs need to be done for:\n",
    " - input\n",
    " - storage\n",
    " - winning condition\n",
    " \n",
    "                                                                    \n",
    "                                                                    \n",
    "                                                                    "
   ]
  },
  {
   "cell_type": "code",
   "execution_count": 1,
   "metadata": {},
   "outputs": [
    {
     "name": "stdout",
     "output_type": "stream",
     "text": [
      "Where do you want to put your mark?1,3\n"
     ]
    }
   ],
   "source": []
  },
  {
   "cell_type": "code",
   "execution_count": null,
   "metadata": {
    "scrolled": true
   },
   "outputs": [],
   "source": [
    "# players enter numbers that represent positions in a grid to get 3 in a row, tic! tac! toe! GO!\n",
    "def play_game():\n",
    "    player_one_turn=True\n",
    "    inputlist1=[]\n",
    "    inputlist2=[]\n",
    "    results_list=[' ',' ',' ',' ',' ',' ',' ',' ',' '] #list to track the specific results X's and O's\n",
    "    moves=0\n",
    "    winning_condition = False\n",
    "    while winning_condition != True:\n",
    "        print_grid(results_list)\n",
    "        if player_one_turn and moves<9:\n",
    "            input_player1 = int(input(\"Player1: Where do you wanna place your mark? \"))\n",
    "            if input_player1 in inputlist1 or input_player1 in inputlist2:\n",
    "                print(\"This square is already chosen, pick again!\")\n",
    "                continue\n",
    "            else:\n",
    "                inputlist1.append(input_player1) #store the input and display the grid\n",
    "                inputlist1.sort()\n",
    "                if to_win(inputlist1)==True:\n",
    "                    winning_condition=True\n",
    "                results_list[input_player1-1]= 'X'\n",
    "                moves+=1\n",
    "                player_one_turn= False\n",
    "                \n",
    "                \n",
    "        elif not player_one_turn and moves<9:\n",
    "            input_player2 = int(input(\"Player 2: Where do you wanna place your mark? \"))\n",
    "            if input_player2 in inputlist1 or input_player2 in inputlist2:\n",
    "                print(\"This square is already chosen, pick again!\")\n",
    "                continue\n",
    "            else:\n",
    "                inputlist2.append(input_player2)\n",
    "                inputlist2.sort()\n",
    "                if to_win(inputlist2) == True:\n",
    "                    winning_condition = True\n",
    "                results_list[input_player2-1]= 'O'\n",
    "                moves+=1\n",
    "                player_one_turn= True\n",
    "                \n",
    "            \n",
    "        else: \n",
    "            print(\"It's a tie game. No one wins. Better luck next time!\")\n",
    "            break\n",
    "    else:\n",
    "        print_grid(results_list)\n",
    "        print(\"YOU WIN! You got 3 in a row!\")\n",
    "        play_again()\n",
    "        \n",
    "def print_grid(results_list):\n",
    "    print(\"{0} | {1} | {2}\\n__|___|___\\n{3} | {4} | {5}\\n__|___|___\\n{6} | {7} | {8}\".format(results_list[0],results_list[1],results_list[2],results_list[3],results_list[4],results_list[5],results_list[6],results_list[7],results_list[8]))\n",
    "    #printing out the grid to show X and O\n",
    "        \n",
    "\n",
    "def to_win(inputlist):\n",
    "    width = 3\n",
    "    a = False\n",
    "    # if you win by 3 in a column the consition is always position(i) + width also requires i to 1,2 or 3\n",
    "    # if you win by 3 in a diagonal line the condition is position + width + 1 requires i to be 1\n",
    "    # if you win by 3 in a row the condition is always position + 1 requires i to be 1,4 or 7\n",
    "    # if you win by 3 in a diagonal line the condition is position + width - 1 requires i to be 3\n",
    "    for i in inputlist:\n",
    "        if i in [1,2,3] and i+width in inputlist and i+width*2 in inputlist:\n",
    "            a = True \n",
    "        elif i==1 and i+width+1 in inputlist and i+width*2+2 in inputlist:\n",
    "            a = True  \n",
    "        elif i==3 and i+width-1 in inputlist and i+width*2-2 in inputlist:\n",
    "            a = True \n",
    "        elif i in [1,4,7] and i+1 in inputlist and i+2 in inputlist:\n",
    "            a = True \n",
    "    if a:\n",
    "        return True\n",
    "        \n",
    "def play_again():\n",
    "    re_play_question= input(\"Do you want to play again? Y/N :\")\n",
    "    if re_play_question.lower() == 'y':\n",
    "        play_game()\n",
    "    \n",
    "        \n",
    "def game_rules():\n",
    "    #rules of the game are written here\n",
    "    print(\"Welcome to tic tac toe, go! Your aim is to get 3 in a row. Player 1 will use the X marks and player 2 will be O.\")\n",
    "    print(\"You will assign which square you want to put your mark in by typing in a number between 1-9 in the following order:\")\n",
    "    print(\"1 | 2 | 3\\n__|___|___\\n4 | 5 | 6\\n__|___|___\\n7 | 8 | 9\")\n",
    "    \n",
    "game_rules()\n",
    "play_game()\n",
    "\n"
   ]
  },
  {
   "cell_type": "markdown",
   "metadata": {},
   "source": []
  },
  {
   "cell_type": "code",
   "execution_count": null,
   "metadata": {},
   "outputs": [],
   "source": []
  }
 ],
 "metadata": {
  "kernelspec": {
   "display_name": "Python 3",
   "language": "python",
   "name": "python3"
  },
  "language_info": {
   "codemirror_mode": {
    "name": "ipython",
    "version": 3
   },
   "file_extension": ".py",
   "mimetype": "text/x-python",
   "name": "python",
   "nbconvert_exporter": "python",
   "pygments_lexer": "ipython3",
   "version": "3.6.4"
  }
 },
 "nbformat": 4,
 "nbformat_minor": 2
}
